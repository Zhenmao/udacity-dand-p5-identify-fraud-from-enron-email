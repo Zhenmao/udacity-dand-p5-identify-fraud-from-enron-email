{
 "cells": [
  {
   "cell_type": "markdown",
   "metadata": {},
   "source": [
    "# Identify Fraud from Enron Email"
   ]
  },
  {
   "cell_type": "markdown",
   "metadata": {},
   "source": [
    "## 1 Introduction"
   ]
  },
  {
   "cell_type": "markdown",
   "metadata": {},
   "source": [
    "In this report, I will use machine learning to build a person of interest (POI) identifier based on Enron financial and email data made public as a result of the Enron scandal.\n",
    "\n",
    "I will start by exploring the data set and investigating outliers. Then I will build the POI identifier following the process of feature selection/engineering, algorithm picking/tuning, validation, evaluation."
   ]
  },
  {
   "cell_type": "code",
   "execution_count": 51,
   "metadata": {},
   "outputs": [
    {
     "name": "stdout",
     "output_type": "stream",
     "text": [
      "Populating the interactive namespace from numpy and matplotlib\n"
     ]
    }
   ],
   "source": [
    "import pickle\n",
    "from collections import defaultdict\n",
    "import pandas as pd\n",
    "import seaborn as sns\n",
    "import matplotlib.pyplot as plt\n",
    "%pylab inline\n",
    "# Change figure size into 8 by 6 inches\n",
    "matplotlib.rcParams['figure.figsize'] = (8, 6)"
   ]
  },
  {
   "cell_type": "markdown",
   "metadata": {},
   "source": [
    "## 2 Data Exploration \n",
    "**Related mini-project: Lesson 5**"
   ]
  },
  {
   "cell_type": "markdown",
   "metadata": {},
   "source": [
    "Q: Student response addresses the most important characteristics of the dataset and uses these characteristics to inform their analysis. Important characteristics include:\n",
    "- total number of data points\n",
    "- allocation across classes (POI/non-POI)\n",
    "- number of features\n",
    "- are there features with many missing values? etc.\n",
    "\n",
    "A: There are 146 data points in the dataset.\n",
    "\n",
    "Out of the 146 data points, there are 18 of them are identified as POIs, and the rest 128 are non-POIs.\n",
    "\n",
    "Each data point consists the name of the person and 21 features (1 POI flag, 14 financial features and 6 email features). All financial features have real number values, and all email features except email_address feature (string value) have integer values.\n",
    "\n",
    "All features have missing values (tabulated below). I notice there is a large difference in terms of percentages of missing values between POIs and non_POIs. By imputing the missing values with 0, I get to preserve this distinction. In other words, after imputing, a value of 0 gives different probability of being a POI than being a non-POI."
   ]
  },
  {
   "cell_type": "code",
   "execution_count": 25,
   "metadata": {},
   "outputs": [],
   "source": [
    "# Load the dataset\n",
    "with open('final_project_dataset.pkl', 'rb') as data_file:\n",
    "    data_dict = pickle.load(data_file)"
   ]
  },
  {
   "cell_type": "code",
   "execution_count": 26,
   "metadata": {},
   "outputs": [
    {
     "name": "stdout",
     "output_type": "stream",
     "text": [
      "There are 146 people in the dataset.\n"
     ]
    }
   ],
   "source": [
    "# Total number of data points\n",
    "print('There are {} people in the dataset.'.format(len(data_dict)))"
   ]
  },
  {
   "cell_type": "code",
   "execution_count": 27,
   "metadata": {},
   "outputs": [
    {
     "name": "stdout",
     "output_type": "stream",
     "text": [
      "There are 18 POIs and 128 non-POIs.\n"
     ]
    }
   ],
   "source": [
    "# Allocation across classes (POI/non-POI)\n",
    "poi_counts = defaultdict(int)\n",
    "for features_values in data_dict.values():\n",
    "    poi_counts[features_values['poi']] += 1\n",
    "print('There are {} POIs and {} non-POIs.'.format(poi_counts[True], poi_counts[False]))"
   ]
  },
  {
   "cell_type": "code",
   "execution_count": 28,
   "metadata": {},
   "outputs": [
    {
     "name": "stdout",
     "output_type": "stream",
     "text": [
      "There are 21 features.\n"
     ]
    },
    {
     "data": {
      "text/plain": [
       "['salary',\n",
       " 'to_messages',\n",
       " 'deferral_payments',\n",
       " 'total_payments',\n",
       " 'loan_advances',\n",
       " 'bonus',\n",
       " 'email_address',\n",
       " 'restricted_stock_deferred',\n",
       " 'deferred_income',\n",
       " 'total_stock_value',\n",
       " 'expenses',\n",
       " 'from_poi_to_this_person',\n",
       " 'exercised_stock_options',\n",
       " 'from_messages',\n",
       " 'other',\n",
       " 'from_this_person_to_poi',\n",
       " 'poi',\n",
       " 'long_term_incentive',\n",
       " 'shared_receipt_with_poi',\n",
       " 'restricted_stock',\n",
       " 'director_fees']"
      ]
     },
     "execution_count": 28,
     "metadata": {},
     "output_type": "execute_result"
    }
   ],
   "source": [
    "# Number of features\n",
    "print('There are {} features.'.format(len(list(data_dict.values())[0])))\n",
    "# Names of features\n",
    "list(list(data_dict.values())[0].keys())"
   ]
  },
  {
   "cell_type": "code",
   "execution_count": 38,
   "metadata": {},
   "outputs": [
    {
     "data": {
      "text/html": [
       "<div>\n",
       "<style>\n",
       "    .dataframe thead tr:only-child th {\n",
       "        text-align: right;\n",
       "    }\n",
       "\n",
       "    .dataframe thead th {\n",
       "        text-align: left;\n",
       "    }\n",
       "\n",
       "    .dataframe tbody tr th {\n",
       "        vertical-align: top;\n",
       "    }\n",
       "</style>\n",
       "<table border=\"1\" class=\"dataframe\">\n",
       "  <thead>\n",
       "    <tr style=\"text-align: right;\">\n",
       "      <th></th>\n",
       "      <th># NaN in POIs</th>\n",
       "      <th># NaN in non-POIs</th>\n",
       "      <th># NaN total</th>\n",
       "      <th>% NaN in POIs</th>\n",
       "      <th>% NaN in non-POIs</th>\n",
       "      <th>% NaN total</th>\n",
       "    </tr>\n",
       "  </thead>\n",
       "  <tbody>\n",
       "    <tr>\n",
       "      <th>bonus</th>\n",
       "      <td>2.0</td>\n",
       "      <td>62.0</td>\n",
       "      <td>64.0</td>\n",
       "      <td>11.111111</td>\n",
       "      <td>48.43750</td>\n",
       "      <td>43.835616</td>\n",
       "    </tr>\n",
       "    <tr>\n",
       "      <th>deferral_payments</th>\n",
       "      <td>13.0</td>\n",
       "      <td>94.0</td>\n",
       "      <td>107.0</td>\n",
       "      <td>72.222222</td>\n",
       "      <td>73.43750</td>\n",
       "      <td>73.287671</td>\n",
       "    </tr>\n",
       "    <tr>\n",
       "      <th>deferred_income</th>\n",
       "      <td>7.0</td>\n",
       "      <td>90.0</td>\n",
       "      <td>97.0</td>\n",
       "      <td>38.888889</td>\n",
       "      <td>70.31250</td>\n",
       "      <td>66.438356</td>\n",
       "    </tr>\n",
       "    <tr>\n",
       "      <th>director_fees</th>\n",
       "      <td>18.0</td>\n",
       "      <td>111.0</td>\n",
       "      <td>129.0</td>\n",
       "      <td>100.000000</td>\n",
       "      <td>86.71875</td>\n",
       "      <td>88.356164</td>\n",
       "    </tr>\n",
       "    <tr>\n",
       "      <th>email_address</th>\n",
       "      <td>0.0</td>\n",
       "      <td>35.0</td>\n",
       "      <td>35.0</td>\n",
       "      <td>0.000000</td>\n",
       "      <td>27.34375</td>\n",
       "      <td>23.972603</td>\n",
       "    </tr>\n",
       "    <tr>\n",
       "      <th>exercised_stock_options</th>\n",
       "      <td>6.0</td>\n",
       "      <td>38.0</td>\n",
       "      <td>44.0</td>\n",
       "      <td>33.333333</td>\n",
       "      <td>29.68750</td>\n",
       "      <td>30.136986</td>\n",
       "    </tr>\n",
       "    <tr>\n",
       "      <th>expenses</th>\n",
       "      <td>0.0</td>\n",
       "      <td>51.0</td>\n",
       "      <td>51.0</td>\n",
       "      <td>0.000000</td>\n",
       "      <td>39.84375</td>\n",
       "      <td>34.931507</td>\n",
       "    </tr>\n",
       "    <tr>\n",
       "      <th>from_messages</th>\n",
       "      <td>4.0</td>\n",
       "      <td>56.0</td>\n",
       "      <td>60.0</td>\n",
       "      <td>22.222222</td>\n",
       "      <td>43.75000</td>\n",
       "      <td>41.095890</td>\n",
       "    </tr>\n",
       "    <tr>\n",
       "      <th>from_poi_to_this_person</th>\n",
       "      <td>4.0</td>\n",
       "      <td>56.0</td>\n",
       "      <td>60.0</td>\n",
       "      <td>22.222222</td>\n",
       "      <td>43.75000</td>\n",
       "      <td>41.095890</td>\n",
       "    </tr>\n",
       "    <tr>\n",
       "      <th>from_this_person_to_poi</th>\n",
       "      <td>4.0</td>\n",
       "      <td>56.0</td>\n",
       "      <td>60.0</td>\n",
       "      <td>22.222222</td>\n",
       "      <td>43.75000</td>\n",
       "      <td>41.095890</td>\n",
       "    </tr>\n",
       "    <tr>\n",
       "      <th>loan_advances</th>\n",
       "      <td>17.0</td>\n",
       "      <td>125.0</td>\n",
       "      <td>142.0</td>\n",
       "      <td>94.444444</td>\n",
       "      <td>97.65625</td>\n",
       "      <td>97.260274</td>\n",
       "    </tr>\n",
       "    <tr>\n",
       "      <th>long_term_incentive</th>\n",
       "      <td>6.0</td>\n",
       "      <td>74.0</td>\n",
       "      <td>80.0</td>\n",
       "      <td>33.333333</td>\n",
       "      <td>57.81250</td>\n",
       "      <td>54.794521</td>\n",
       "    </tr>\n",
       "    <tr>\n",
       "      <th>other</th>\n",
       "      <td>0.0</td>\n",
       "      <td>53.0</td>\n",
       "      <td>53.0</td>\n",
       "      <td>0.000000</td>\n",
       "      <td>41.40625</td>\n",
       "      <td>36.301370</td>\n",
       "    </tr>\n",
       "    <tr>\n",
       "      <th>restricted_stock</th>\n",
       "      <td>1.0</td>\n",
       "      <td>35.0</td>\n",
       "      <td>36.0</td>\n",
       "      <td>5.555556</td>\n",
       "      <td>27.34375</td>\n",
       "      <td>24.657534</td>\n",
       "    </tr>\n",
       "    <tr>\n",
       "      <th>restricted_stock_deferred</th>\n",
       "      <td>18.0</td>\n",
       "      <td>110.0</td>\n",
       "      <td>128.0</td>\n",
       "      <td>100.000000</td>\n",
       "      <td>85.93750</td>\n",
       "      <td>87.671233</td>\n",
       "    </tr>\n",
       "    <tr>\n",
       "      <th>salary</th>\n",
       "      <td>1.0</td>\n",
       "      <td>50.0</td>\n",
       "      <td>51.0</td>\n",
       "      <td>5.555556</td>\n",
       "      <td>39.06250</td>\n",
       "      <td>34.931507</td>\n",
       "    </tr>\n",
       "    <tr>\n",
       "      <th>shared_receipt_with_poi</th>\n",
       "      <td>4.0</td>\n",
       "      <td>56.0</td>\n",
       "      <td>60.0</td>\n",
       "      <td>22.222222</td>\n",
       "      <td>43.75000</td>\n",
       "      <td>41.095890</td>\n",
       "    </tr>\n",
       "    <tr>\n",
       "      <th>to_messages</th>\n",
       "      <td>4.0</td>\n",
       "      <td>56.0</td>\n",
       "      <td>60.0</td>\n",
       "      <td>22.222222</td>\n",
       "      <td>43.75000</td>\n",
       "      <td>41.095890</td>\n",
       "    </tr>\n",
       "    <tr>\n",
       "      <th>total_payments</th>\n",
       "      <td>0.0</td>\n",
       "      <td>21.0</td>\n",
       "      <td>21.0</td>\n",
       "      <td>0.000000</td>\n",
       "      <td>16.40625</td>\n",
       "      <td>14.383562</td>\n",
       "    </tr>\n",
       "    <tr>\n",
       "      <th>total_stock_value</th>\n",
       "      <td>0.0</td>\n",
       "      <td>20.0</td>\n",
       "      <td>20.0</td>\n",
       "      <td>0.000000</td>\n",
       "      <td>15.62500</td>\n",
       "      <td>13.698630</td>\n",
       "    </tr>\n",
       "  </tbody>\n",
       "</table>\n",
       "</div>"
      ],
      "text/plain": [
       "                           # NaN in POIs  # NaN in non-POIs  # NaN total  \\\n",
       "bonus                                2.0               62.0         64.0   \n",
       "deferral_payments                   13.0               94.0        107.0   \n",
       "deferred_income                      7.0               90.0         97.0   \n",
       "director_fees                       18.0              111.0        129.0   \n",
       "email_address                        0.0               35.0         35.0   \n",
       "exercised_stock_options              6.0               38.0         44.0   \n",
       "expenses                             0.0               51.0         51.0   \n",
       "from_messages                        4.0               56.0         60.0   \n",
       "from_poi_to_this_person              4.0               56.0         60.0   \n",
       "from_this_person_to_poi              4.0               56.0         60.0   \n",
       "loan_advances                       17.0              125.0        142.0   \n",
       "long_term_incentive                  6.0               74.0         80.0   \n",
       "other                                0.0               53.0         53.0   \n",
       "restricted_stock                     1.0               35.0         36.0   \n",
       "restricted_stock_deferred           18.0              110.0        128.0   \n",
       "salary                               1.0               50.0         51.0   \n",
       "shared_receipt_with_poi              4.0               56.0         60.0   \n",
       "to_messages                          4.0               56.0         60.0   \n",
       "total_payments                       0.0               21.0         21.0   \n",
       "total_stock_value                    0.0               20.0         20.0   \n",
       "\n",
       "                           % NaN in POIs  % NaN in non-POIs  % NaN total  \n",
       "bonus                          11.111111           48.43750    43.835616  \n",
       "deferral_payments              72.222222           73.43750    73.287671  \n",
       "deferred_income                38.888889           70.31250    66.438356  \n",
       "director_fees                 100.000000           86.71875    88.356164  \n",
       "email_address                   0.000000           27.34375    23.972603  \n",
       "exercised_stock_options        33.333333           29.68750    30.136986  \n",
       "expenses                        0.000000           39.84375    34.931507  \n",
       "from_messages                  22.222222           43.75000    41.095890  \n",
       "from_poi_to_this_person        22.222222           43.75000    41.095890  \n",
       "from_this_person_to_poi        22.222222           43.75000    41.095890  \n",
       "loan_advances                  94.444444           97.65625    97.260274  \n",
       "long_term_incentive            33.333333           57.81250    54.794521  \n",
       "other                           0.000000           41.40625    36.301370  \n",
       "restricted_stock                5.555556           27.34375    24.657534  \n",
       "restricted_stock_deferred     100.000000           85.93750    87.671233  \n",
       "salary                          5.555556           39.06250    34.931507  \n",
       "shared_receipt_with_poi        22.222222           43.75000    41.095890  \n",
       "to_messages                    22.222222           43.75000    41.095890  \n",
       "total_payments                  0.000000           16.40625    14.383562  \n",
       "total_stock_value               0.000000           15.62500    13.698630  "
      ]
     },
     "execution_count": 38,
     "metadata": {},
     "output_type": "execute_result"
    }
   ],
   "source": [
    "# Features with missing values\n",
    "nan_counts_poi = defaultdict(int)\n",
    "nan_counts_non_poi = defaultdict(int)\n",
    "for data_point in data_dict.values():\n",
    "    if data_point['poi'] == True:\n",
    "        for feature, value in data_point.items():\n",
    "            if value == \"NaN\":\n",
    "                nan_counts_poi[feature] += 1\n",
    "    elif data_point['poi'] == False:\n",
    "        for feature, value in data_point.items():\n",
    "            if value == \"NaN\":\n",
    "                nan_counts_non_poi[feature] += 1\n",
    "    else:\n",
    "        print('Got an uncategorized person.')\n",
    "nan_counts_df = pd.DataFrame([nan_counts_poi, nan_counts_non_poi]).T\n",
    "nan_counts_df = nan_counts_df.fillna(value=0)\n",
    "nan_counts_df.columns = ['# NaN in POIs', '# NaN in non-POIs']\n",
    "nan_counts_df['# NaN total'] = nan_counts_df['# NaN in POIs'] + \\\n",
    "                               nan_counts_df['# NaN in non-POIs']\n",
    "nan_counts_df['% NaN in POIs'] = nan_counts_df['# NaN in POIs'] / \\\n",
    "                                          poi_counts[True] * 100\n",
    "nan_counts_df['% NaN in non-POIs'] = nan_counts_df['# NaN in non-POIs'] / \\\n",
    "                                          poi_counts[False] * 100\n",
    "nan_counts_df['% NaN total'] = nan_counts_df['# NaN total'] / \\\n",
    "                                          len(data_dict) * 100\n",
    "    \n",
    "nan_counts_df"
   ]
  },
  {
   "cell_type": "code",
   "execution_count": 53,
   "metadata": {},
   "outputs": [
    {
     "data": {
      "text/plain": [
       "<matplotlib.text.Text at 0x115eb2128>"
      ]
     },
     "execution_count": 53,
     "metadata": {},
     "output_type": "execute_result"
    },
    {
     "data": {
      "image/png": "[encoded data removed]",
      "text/plain": [
       "<matplotlib.figure.Figure at 0x115d66278>"
      ]
     },
     "metadata": {},
     "output_type": "display_data"
    }
   ],
   "source": [
    "# Plot missing values distribution\n",
    "ax = nan_counts_df.sort_values('# NaN total')[['# NaN in POIs', '# NaN in non-POIs']].plot(kind='barh', \n",
    "                                                                                    stacked=True)\n",
    "ax.set_title('Number of Missing Values Distribution')\n",
    "ax.set_xlabel('Number of Missing Values')\n",
    "ax.set_ylabel('Variable Name')\n"
   ]
  },
  {
   "cell_type": "code",
   "execution_count": 54,
   "metadata": {},
   "outputs": [
    {
     "data": {
      "text/plain": [
       "<matplotlib.text.Text at 0x115a59940>"
      ]
     },
     "execution_count": 54,
     "metadata": {},
     "output_type": "execute_result"
    },
    {
     "data": {
      "image/png": "[encoded data removed]",
      "text/plain": [
       "<matplotlib.figure.Figure at 0x1160f67b8>"
      ]
     },
     "metadata": {},
     "output_type": "display_data"
    }
   ],
   "source": [
    "# Plot missing values distribution\n",
    "ax = nan_counts_df.sort_values('# NaN total')[['% NaN in POIs', '% NaN in non-POIs']].plot(kind='barh', \n",
    "                                                                                    stacked=False)\n",
    "ax.set_title('Percent of Missing Values Distribution')\n",
    "ax.set_xlabel('Percent of Missing Values')\n",
    "ax.set_ylabel('Variable Name')"
   ]
  },
  {
   "cell_type": "code",
   "execution_count": null,
   "metadata": {
    "collapsed": true
   },
   "outputs": [],
   "source": []
  }
 ],
 "metadata": {
  "kernelspec": {
   "display_name": "Python 3",
   "language": "python",
   "name": "python3"
  },
  "language_info": {
   "codemirror_mode": {
    "name": "ipython",
    "version": 3
   },
   "file_extension": ".py",
   "mimetype": "text/x-python",
   "name": "python",
   "nbconvert_exporter": "python",
   "pygments_lexer": "ipython3",
   "version": "3.6.2"
  }
 },
 "nbformat": 4,
 "nbformat_minor": 2
}
