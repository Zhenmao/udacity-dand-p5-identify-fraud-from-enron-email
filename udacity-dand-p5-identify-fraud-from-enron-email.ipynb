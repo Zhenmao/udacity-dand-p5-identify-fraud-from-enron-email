{
 "cells": [
  {
   "cell_type": "markdown",
   "metadata": {},
   "source": [
    "# Identify Fraud from Enron Email"
   ]
  },
  {
   "cell_type": "markdown",
   "metadata": {},
   "source": [
    "## 1 Introduction"
   ]
  },
  {
   "cell_type": "markdown",
   "metadata": {},
   "source": [
    "In this report, I will use machine learning to build a person of interest (POI) identifier based on Enron financial and email data made public as a result of the Enron scandal.\n",
    "\n",
    "I will start by exploring the data set and investigating outliers. Then I will build the POI identifier following the process of feature selection/engineering, algorithm picking/tuning, validation, evaluation."
   ]
  },
  {
   "cell_type": "code",
   "execution_count": 11,
   "metadata": {},
   "outputs": [
    {
     "name": "stdout",
     "output_type": "stream",
     "text": [
      "Populating the interactive namespace from numpy and matplotlib\n"
     ]
    }
   ],
   "source": [
    "import pickle\n",
    "from collections import defaultdict\n",
    "import pandas as pd\n",
    "import seaborn as sns\n",
    "import matplotlib.pyplot as plt\n",
    "%pylab inline\n",
    "# Change figure size into 8 by 6 inches\n",
    "matplotlib.rcParams['figure.figsize'] = (8, 6)\n",
    "\n",
    "from sklearn.metrics import accuracy_score, precision_score, recall_score, f1_score, confusion_matrix\n",
    "from sklearn.feature_selection import SelectKBest\n",
    "from sklearn.tree import DecisionTreeClassifier\n",
    "from sklearn.model_selection import train_test_split, StratifiedShuffleSplit, GridSearchCV\n",
    "from sklearn.naive_bayes import GaussianNB\n",
    "from sklearn.ensemble import AdaBoostClassifier, RandomForestClassifier"
   ]
  },
  {
   "cell_type": "markdown",
   "metadata": {},
   "source": [
    "## 2 Data Exploration"
   ]
  },
  {
   "cell_type": "markdown",
   "metadata": {},
   "source": [
    "Q: Student response addresses the most important characteristics of the dataset and uses these characteristics to inform their analysis. Important characteristics include:\n",
    "- total number of data points\n",
    "- allocation across classes (POI/non-POI)\n",
    "- number of features\n",
    "- are there features with many missing values? etc.\n",
    "\n",
    "A: There are 146 data points in the dataset.\n",
    "\n",
    "Out of the 146 data points, there are 18 of them are identified as POIs, and the rest 128 are non-POIs.\n",
    "\n",
    "Each data point consists the name of the person and 21 features (1 POI flag, 14 financial features and 6 email features). All financial features have real number values, and all email features except email_address feature (string value) have integer values.\n",
    "\n",
    "All features have missing values (tabulated below). I notice there is a large difference in terms of percentages of missing values between POIs and non_POIs. By imputing the missing values with 0, I get to preserve this distinction. In other words, after imputing, a value of 0 gives different probability of being a POI than being a non-POI."
   ]
  },
  {
   "cell_type": "code",
   "execution_count": 2,
   "metadata": {
    "collapsed": true
   },
   "outputs": [],
   "source": [
    "# Load the dataset\n",
    "with open('final_project_dataset.pkl', 'rb') as data_file:\n",
    "    data_dict = pickle.load(data_file)"
   ]
  },
  {
   "cell_type": "code",
   "execution_count": 26,
   "metadata": {},
   "outputs": [
    {
     "name": "stdout",
     "output_type": "stream",
     "text": [
      "There are 146 people in the dataset.\n"
     ]
    }
   ],
   "source": [
    "# Total number of data points\n",
    "print('There are {} people in the dataset.'.format(len(data_dict)))"
   ]
  },
  {
   "cell_type": "code",
   "execution_count": 27,
   "metadata": {},
   "outputs": [
    {
     "name": "stdout",
     "output_type": "stream",
     "text": [
      "There are 18 POIs and 128 non-POIs.\n"
     ]
    }
   ],
   "source": [
    "# Allocation across classes (POI/non-POI)\n",
    "poi_counts = defaultdict(int)\n",
    "for features_values in data_dict.values():\n",
    "    poi_counts[features_values['poi']] += 1\n",
    "print('There are {} POIs and {} non-POIs.'.format(poi_counts[True], poi_counts[False]))"
   ]
  },
  {
   "cell_type": "code",
   "execution_count": 28,
   "metadata": {},
   "outputs": [
    {
     "name": "stdout",
     "output_type": "stream",
     "text": [
      "There are 21 features.\n"
     ]
    },
    {
     "data": {
      "text/plain": [
       "['salary',\n",
       " 'to_messages',\n",
       " 'deferral_payments',\n",
       " 'total_payments',\n",
       " 'loan_advances',\n",
       " 'bonus',\n",
       " 'email_address',\n",
       " 'restricted_stock_deferred',\n",
       " 'deferred_income',\n",
       " 'total_stock_value',\n",
       " 'expenses',\n",
       " 'from_poi_to_this_person',\n",
       " 'exercised_stock_options',\n",
       " 'from_messages',\n",
       " 'other',\n",
       " 'from_this_person_to_poi',\n",
       " 'poi',\n",
       " 'long_term_incentive',\n",
       " 'shared_receipt_with_poi',\n",
       " 'restricted_stock',\n",
       " 'director_fees']"
      ]
     },
     "execution_count": 28,
     "metadata": {},
     "output_type": "execute_result"
    }
   ],
   "source": [
    "# Number of features\n",
    "print('There are {} features.'.format(len(list(data_dict.values())[0])))\n",
    "# Names of features\n",
    "list(list(data_dict.values())[0].keys())"
   ]
  },
  {
   "cell_type": "code",
   "execution_count": 38,
   "metadata": {},
   "outputs": [
    {
     "data": {
      "text/html": [
       "<div>\n",
       "<style>\n",
       "    .dataframe thead tr:only-child th {\n",
       "        text-align: right;\n",
       "    }\n",
       "\n",
       "    .dataframe thead th {\n",
       "        text-align: left;\n",
       "    }\n",
       "\n",
       "    .dataframe tbody tr th {\n",
       "        vertical-align: top;\n",
       "    }\n",
       "</style>\n",
       "<table border=\"1\" class=\"dataframe\">\n",
       "  <thead>\n",
       "    <tr style=\"text-align: right;\">\n",
       "      <th></th>\n",
       "      <th># NaN in POIs</th>\n",
       "      <th># NaN in non-POIs</th>\n",
       "      <th># NaN total</th>\n",
       "      <th>% NaN in POIs</th>\n",
       "      <th>% NaN in non-POIs</th>\n",
       "      <th>% NaN total</th>\n",
       "    </tr>\n",
       "  </thead>\n",
       "  <tbody>\n",
       "    <tr>\n",
       "      <th>bonus</th>\n",
       "      <td>2.0</td>\n",
       "      <td>62.0</td>\n",
       "      <td>64.0</td>\n",
       "      <td>11.111111</td>\n",
       "      <td>48.43750</td>\n",
       "      <td>43.835616</td>\n",
       "    </tr>\n",
       "    <tr>\n",
       "      <th>deferral_payments</th>\n",
       "      <td>13.0</td>\n",
       "      <td>94.0</td>\n",
       "      <td>107.0</td>\n",
       "      <td>72.222222</td>\n",
       "      <td>73.43750</td>\n",
       "      <td>73.287671</td>\n",
       "    </tr>\n",
       "    <tr>\n",
       "      <th>deferred_income</th>\n",
       "      <td>7.0</td>\n",
       "      <td>90.0</td>\n",
       "      <td>97.0</td>\n",
       "      <td>38.888889</td>\n",
       "      <td>70.31250</td>\n",
       "      <td>66.438356</td>\n",
       "    </tr>\n",
       "    <tr>\n",
       "      <th>director_fees</th>\n",
       "      <td>18.0</td>\n",
       "      <td>111.0</td>\n",
       "      <td>129.0</td>\n",
       "      <td>100.000000</td>\n",
       "      <td>86.71875</td>\n",
       "      <td>88.356164</td>\n",
       "    </tr>\n",
       "    <tr>\n",
       "      <th>email_address</th>\n",
       "      <td>0.0</td>\n",
       "      <td>35.0</td>\n",
       "      <td>35.0</td>\n",
       "      <td>0.000000</td>\n",
       "      <td>27.34375</td>\n",
       "      <td>23.972603</td>\n",
       "    </tr>\n",
       "    <tr>\n",
       "      <th>exercised_stock_options</th>\n",
       "      <td>6.0</td>\n",
       "      <td>38.0</td>\n",
       "      <td>44.0</td>\n",
       "      <td>33.333333</td>\n",
       "      <td>29.68750</td>\n",
       "      <td>30.136986</td>\n",
       "    </tr>\n",
       "    <tr>\n",
       "      <th>expenses</th>\n",
       "      <td>0.0</td>\n",
       "      <td>51.0</td>\n",
       "      <td>51.0</td>\n",
       "      <td>0.000000</td>\n",
       "      <td>39.84375</td>\n",
       "      <td>34.931507</td>\n",
       "    </tr>\n",
       "    <tr>\n",
       "      <th>from_messages</th>\n",
       "      <td>4.0</td>\n",
       "      <td>56.0</td>\n",
       "      <td>60.0</td>\n",
       "      <td>22.222222</td>\n",
       "      <td>43.75000</td>\n",
       "      <td>41.095890</td>\n",
       "    </tr>\n",
       "    <tr>\n",
       "      <th>from_poi_to_this_person</th>\n",
       "      <td>4.0</td>\n",
       "      <td>56.0</td>\n",
       "      <td>60.0</td>\n",
       "      <td>22.222222</td>\n",
       "      <td>43.75000</td>\n",
       "      <td>41.095890</td>\n",
       "    </tr>\n",
       "    <tr>\n",
       "      <th>from_this_person_to_poi</th>\n",
       "      <td>4.0</td>\n",
       "      <td>56.0</td>\n",
       "      <td>60.0</td>\n",
       "      <td>22.222222</td>\n",
       "      <td>43.75000</td>\n",
       "      <td>41.095890</td>\n",
       "    </tr>\n",
       "    <tr>\n",
       "      <th>loan_advances</th>\n",
       "      <td>17.0</td>\n",
       "      <td>125.0</td>\n",
       "      <td>142.0</td>\n",
       "      <td>94.444444</td>\n",
       "      <td>97.65625</td>\n",
       "      <td>97.260274</td>\n",
       "    </tr>\n",
       "    <tr>\n",
       "      <th>long_term_incentive</th>\n",
       "      <td>6.0</td>\n",
       "      <td>74.0</td>\n",
       "      <td>80.0</td>\n",
       "      <td>33.333333</td>\n",
       "      <td>57.81250</td>\n",
       "      <td>54.794521</td>\n",
       "    </tr>\n",
       "    <tr>\n",
       "      <th>other</th>\n",
       "      <td>0.0</td>\n",
       "      <td>53.0</td>\n",
       "      <td>53.0</td>\n",
       "      <td>0.000000</td>\n",
       "      <td>41.40625</td>\n",
       "      <td>36.301370</td>\n",
       "    </tr>\n",
       "    <tr>\n",
       "      <th>restricted_stock</th>\n",
       "      <td>1.0</td>\n",
       "      <td>35.0</td>\n",
       "      <td>36.0</td>\n",
       "      <td>5.555556</td>\n",
       "      <td>27.34375</td>\n",
       "      <td>24.657534</td>\n",
       "    </tr>\n",
       "    <tr>\n",
       "      <th>restricted_stock_deferred</th>\n",
       "      <td>18.0</td>\n",
       "      <td>110.0</td>\n",
       "      <td>128.0</td>\n",
       "      <td>100.000000</td>\n",
       "      <td>85.93750</td>\n",
       "      <td>87.671233</td>\n",
       "    </tr>\n",
       "    <tr>\n",
       "      <th>salary</th>\n",
       "      <td>1.0</td>\n",
       "      <td>50.0</td>\n",
       "      <td>51.0</td>\n",
       "      <td>5.555556</td>\n",
       "      <td>39.06250</td>\n",
       "      <td>34.931507</td>\n",
       "    </tr>\n",
       "    <tr>\n",
       "      <th>shared_receipt_with_poi</th>\n",
       "      <td>4.0</td>\n",
       "      <td>56.0</td>\n",
       "      <td>60.0</td>\n",
       "      <td>22.222222</td>\n",
       "      <td>43.75000</td>\n",
       "      <td>41.095890</td>\n",
       "    </tr>\n",
       "    <tr>\n",
       "      <th>to_messages</th>\n",
       "      <td>4.0</td>\n",
       "      <td>56.0</td>\n",
       "      <td>60.0</td>\n",
       "      <td>22.222222</td>\n",
       "      <td>43.75000</td>\n",
       "      <td>41.095890</td>\n",
       "    </tr>\n",
       "    <tr>\n",
       "      <th>total_payments</th>\n",
       "      <td>0.0</td>\n",
       "      <td>21.0</td>\n",
       "      <td>21.0</td>\n",
       "      <td>0.000000</td>\n",
       "      <td>16.40625</td>\n",
       "      <td>14.383562</td>\n",
       "    </tr>\n",
       "    <tr>\n",
       "      <th>total_stock_value</th>\n",
       "      <td>0.0</td>\n",
       "      <td>20.0</td>\n",
       "      <td>20.0</td>\n",
       "      <td>0.000000</td>\n",
       "      <td>15.62500</td>\n",
       "      <td>13.698630</td>\n",
       "    </tr>\n",
       "  </tbody>\n",
       "</table>\n",
       "</div>"
      ],
      "text/plain": [
       "                           # NaN in POIs  # NaN in non-POIs  # NaN total  \\\n",
       "bonus                                2.0               62.0         64.0   \n",
       "deferral_payments                   13.0               94.0        107.0   \n",
       "deferred_income                      7.0               90.0         97.0   \n",
       "director_fees                       18.0              111.0        129.0   \n",
       "email_address                        0.0               35.0         35.0   \n",
       "exercised_stock_options              6.0               38.0         44.0   \n",
       "expenses                             0.0               51.0         51.0   \n",
       "from_messages                        4.0               56.0         60.0   \n",
       "from_poi_to_this_person              4.0               56.0         60.0   \n",
       "from_this_person_to_poi              4.0               56.0         60.0   \n",
       "loan_advances                       17.0              125.0        142.0   \n",
       "long_term_incentive                  6.0               74.0         80.0   \n",
       "other                                0.0               53.0         53.0   \n",
       "restricted_stock                     1.0               35.0         36.0   \n",
       "restricted_stock_deferred           18.0              110.0        128.0   \n",
       "salary                               1.0               50.0         51.0   \n",
       "shared_receipt_with_poi              4.0               56.0         60.0   \n",
       "to_messages                          4.0               56.0         60.0   \n",
       "total_payments                       0.0               21.0         21.0   \n",
       "total_stock_value                    0.0               20.0         20.0   \n",
       "\n",
       "                           % NaN in POIs  % NaN in non-POIs  % NaN total  \n",
       "bonus                          11.111111           48.43750    43.835616  \n",
       "deferral_payments              72.222222           73.43750    73.287671  \n",
       "deferred_income                38.888889           70.31250    66.438356  \n",
       "director_fees                 100.000000           86.71875    88.356164  \n",
       "email_address                   0.000000           27.34375    23.972603  \n",
       "exercised_stock_options        33.333333           29.68750    30.136986  \n",
       "expenses                        0.000000           39.84375    34.931507  \n",
       "from_messages                  22.222222           43.75000    41.095890  \n",
       "from_poi_to_this_person        22.222222           43.75000    41.095890  \n",
       "from_this_person_to_poi        22.222222           43.75000    41.095890  \n",
       "loan_advances                  94.444444           97.65625    97.260274  \n",
       "long_term_incentive            33.333333           57.81250    54.794521  \n",
       "other                           0.000000           41.40625    36.301370  \n",
       "restricted_stock                5.555556           27.34375    24.657534  \n",
       "restricted_stock_deferred     100.000000           85.93750    87.671233  \n",
       "salary                          5.555556           39.06250    34.931507  \n",
       "shared_receipt_with_poi        22.222222           43.75000    41.095890  \n",
       "to_messages                    22.222222           43.75000    41.095890  \n",
       "total_payments                  0.000000           16.40625    14.383562  \n",
       "total_stock_value               0.000000           15.62500    13.698630  "
      ]
     },
     "execution_count": 38,
     "metadata": {},
     "output_type": "execute_result"
    }
   ],
   "source": [
    "# Features with missing values\n",
    "nan_counts_poi = defaultdict(int)\n",
    "nan_counts_non_poi = defaultdict(int)\n",
    "for data_point in data_dict.values():\n",
    "    if data_point['poi'] == True:\n",
    "        for feature, value in data_point.items():\n",
    "            if value == \"NaN\":\n",
    "                nan_counts_poi[feature] += 1\n",
    "    elif data_point['poi'] == False:\n",
    "        for feature, value in data_point.items():\n",
    "            if value == \"NaN\":\n",
    "                nan_counts_non_poi[feature] += 1\n",
    "    else:\n",
    "        print('Got an uncategorized person.')\n",
    "nan_counts_df = pd.DataFrame([nan_counts_poi, nan_counts_non_poi]).T\n",
    "nan_counts_df = nan_counts_df.fillna(value=0)\n",
    "nan_counts_df.columns = ['# NaN in POIs', '# NaN in non-POIs']\n",
    "nan_counts_df['# NaN total'] = nan_counts_df['# NaN in POIs'] + \\\n",
    "                               nan_counts_df['# NaN in non-POIs']\n",
    "nan_counts_df['% NaN in POIs'] = nan_counts_df['# NaN in POIs'] / \\\n",
    "                                          poi_counts[True] * 100\n",
    "nan_counts_df['% NaN in non-POIs'] = nan_counts_df['# NaN in non-POIs'] / \\\n",
    "                                          poi_counts[False] * 100\n",
    "nan_counts_df['% NaN total'] = nan_counts_df['# NaN total'] / \\\n",
    "                                          len(data_dict) * 100\n",
    "    \n",
    "nan_counts_df"
   ]
  },
  {
   "cell_type": "code",
   "execution_count": 54,
   "metadata": {},
   "outputs": [
    {
     "data": {
      "text/plain": [
       "<matplotlib.text.Text at 0x115a59940>"
      ]
     },
     "execution_count": 54,
     "metadata": {},
     "output_type": "execute_result"
    },
    {
     "data": {
      "image/png": "[encoded data removed]",
      "text/plain": [
       "<matplotlib.figure.Figure at 0x1160f67b8>"
      ]
     },
     "metadata": {},
     "output_type": "display_data"
    }
   ],
   "source": [
    "# Plot missing values distribution\n",
    "ax = nan_counts_df.sort_values('# NaN total')[['% NaN in POIs', '% NaN in non-POIs']].plot(kind='barh', \n",
    "                                                                                    stacked=False)\n",
    "ax.set_title('Percent of Missing Values Distribution')\n",
    "ax.set_xlabel('Percent of Missing Values')\n",
    "ax.set_ylabel('Variable Name')"
   ]
  },
  {
   "cell_type": "markdown",
   "metadata": {
    "collapsed": true
   },
   "source": [
    "## 3 Outlier Investigation"
   ]
  },
  {
   "cell_type": "markdown",
   "metadata": {},
   "source": [
    "Q: Student response identifies outlier(s) in the financial data, and explains how they are removed or otherwise handled. Outliers are removed or retained as appropriate.\n",
    "\n",
    "A: By examing the financial features, I found out two kinds of outliers.\n",
    "\n",
    "The first kind is a data point with name 'TOTAL', and it is probably because when the dataset was generated from some spreadsheet, the summary row corresponding to the sum was also included. I removed this 'TOTAL' data point from my analysis. \n",
    "\n",
    "The other outliers consist of people with extreme large values of financial features. Since these values are accurate and some of them are acutally POIs, I retained these data points."
   ]
  },
  {
   "cell_type": "code",
   "execution_count": 3,
   "metadata": {
    "collapsed": true
   },
   "outputs": [],
   "source": [
    "def allFeaturesFormat(data_dict):\n",
    "    '''Convert the data dictionary with all features to a pandas DataFrame.\n",
    "    \n",
    "    'NaN' is filled with 0.\n",
    "    \n",
    "    Arg:\n",
    "    data_dict: A dictionry containing all features for the enron data\n",
    "    \n",
    "    return:\n",
    "    df: A pandas DataFrame\n",
    "    '''\n",
    "    temp_list = []\n",
    "    for name, features_values in data_dict.items():\n",
    "        temp_dict = {}\n",
    "        temp_dict['name'] = name\n",
    "        for feature, value in features_values.items():\n",
    "            if feature in ['poi', 'email_address']:\n",
    "                temp_dict[feature] = value\n",
    "            else:\n",
    "                if value == 'NaN':\n",
    "                    value = 0\n",
    "                temp_dict[feature] = float(value)\n",
    "        temp_list.append(temp_dict)\n",
    "    df = pd.DataFrame(temp_list)\n",
    "    return df"
   ]
  },
  {
   "cell_type": "code",
   "execution_count": 4,
   "metadata": {},
   "outputs": [
    {
     "data": {
      "text/plain": [
       "<seaborn.axisgrid.FacetGrid at 0x11926bb70>"
      ]
     },
     "execution_count": 4,
     "metadata": {},
     "output_type": "execute_result"
    },
    {
     "data": {
      "image/png": "[encoded data removed]",
      "text/plain": [
       "<matplotlib.figure.Figure at 0x119123dd8>"
      ]
     },
     "metadata": {},
     "output_type": "display_data"
    }
   ],
   "source": [
    "df = allFeaturesFormat(data_dict)\n",
    "g = sns.FacetGrid(df, hue='poi', size=7)\n",
    "g.map(plt.scatter, 'salary', 'bonus', alpha=.7)\n",
    "g.add_legend()"
   ]
  },
  {
   "cell_type": "code",
   "execution_count": 5,
   "metadata": {},
   "outputs": [
    {
     "data": {
      "text/plain": [
       "{'bonus': 97343619,\n",
       " 'deferral_payments': 32083396,\n",
       " 'deferred_income': -27992891,\n",
       " 'director_fees': 1398517,\n",
       " 'email_address': 'NaN',\n",
       " 'exercised_stock_options': 311764000,\n",
       " 'expenses': 5235198,\n",
       " 'from_messages': 'NaN',\n",
       " 'from_poi_to_this_person': 'NaN',\n",
       " 'from_this_person_to_poi': 'NaN',\n",
       " 'loan_advances': 83925000,\n",
       " 'long_term_incentive': 48521928,\n",
       " 'other': 42667589,\n",
       " 'poi': False,\n",
       " 'restricted_stock': 130322299,\n",
       " 'restricted_stock_deferred': -7576788,\n",
       " 'salary': 26704229,\n",
       " 'shared_receipt_with_poi': 'NaN',\n",
       " 'to_messages': 'NaN',\n",
       " 'total_payments': 309886585,\n",
       " 'total_stock_value': 434509511}"
      ]
     },
     "execution_count": 5,
     "metadata": {},
     "output_type": "execute_result"
    }
   ],
   "source": [
    "# Remove the outlier \"total\"\n",
    "data_dict.pop('TOTAL', 0)"
   ]
  },
  {
   "cell_type": "markdown",
   "metadata": {},
   "source": [
    "## 4 Create New Features Part I"
   ]
  },
  {
   "cell_type": "markdown",
   "metadata": {},
   "source": [
    "Q: At least one new feature is implemented. Justification for that feature is provided in the written response, and the effect of that feature on the final algorithm performance is tested.\n",
    "\n",
    "A: Three new features are created:\n",
    "\n",
    "The features **fraction_from_poi** and **fraction_to_poi** are the fractions of messages the persion receives from/sends to a POI. These two features measure the degree of how the persion is connected to POIs, and someone who is more connected with POIs, this person should have a higher probablity being a POI him/herself.\n",
    "\n",
    "The feature **payments_stock_total** measures the sum of total payments and stock values. A POI should have a higher payments_stock_total comparing to a non-POI in general.\n",
    "\n",
    "Out of the 3 new features, fraction_to_poi are the highest scored feature of the final AdaBoost based model with 7 features selected by decision tree method. The effect of this new feature on the final algorithm is tested at Create New Features Part 2 near the end of the report."
   ]
  },
  {
   "cell_type": "code",
   "execution_count": 6,
   "metadata": {
    "collapsed": true
   },
   "outputs": [],
   "source": [
    "def computeFraction(poi_messages, all_messages):\n",
    "    '''Calculate the fraction of one person's messages to/from POIs.\n",
    "    \n",
    "    Arg:\n",
    "    poi_messages: Number of messages to/from POIs\n",
    "    all_messages: Total number of messages send/receive\n",
    "    \n",
    "    Return:\n",
    "    fraction: The fraction of messages to/from that person that are from/to POIs\n",
    "    \n",
    "    '''\n",
    "    fraction = 0\n",
    "    if poi_messages != \"NaN\" and all_messages != \"NaN\":\n",
    "        fraction = poi_messages / all_messages\n",
    "    return fraction\n",
    "\n",
    "def computeTotal(total_payments, total_stock_value):\n",
    "    '''Calculate the sum of total payments and total stock value\n",
    "    \n",
    "    Arg:\n",
    "    total_payments: Total payments of a given person\n",
    "    total_stock_value: Total stock value of a given person\n",
    "    \n",
    "    Return:\n",
    "    total: The sum of these two values\n",
    "    '''\n",
    "    if total_payments == \"NaN\":\n",
    "        total_payments = 0\n",
    "    if total_stock_value == \"NaN\":\n",
    "        total_stock_value = 0\n",
    "    total = total_payments + total_stock_value\n",
    "    return total\n",
    "\n",
    "for data_point in data_dict.values():    \n",
    "    # Create feature fraction_from_poi\n",
    "    from_poi_to_this_person = data_point['from_poi_to_this_person']\n",
    "    to_messages = data_point['to_messages']\n",
    "    fraction_from_poi = computeFraction(from_poi_to_this_person, to_messages)\n",
    "    data_point['fraction_from_poi'] = fraction_from_poi\n",
    "\n",
    "    # Create feature fraction_to_poi\n",
    "    from_this_person_to_poi = data_point['from_this_person_to_poi']\n",
    "    from_messages = data_point['from_messages']\n",
    "    fraction_to_poi = computeFraction(from_this_person_to_poi, from_messages)\n",
    "    data_point['fraction_to_poi'] = fraction_to_poi\n",
    "    \n",
    "    # Create feature payments_stock_total\n",
    "    total_payments = data_point['total_payments']\n",
    "    total_stock_value = data_point['total_stock_value']\n",
    "    data_point['payments_stock_total'] = computeTotal(total_payments, total_stock_value)"
   ]
  },
  {
   "cell_type": "code",
   "execution_count": 7,
   "metadata": {
    "collapsed": true
   },
   "outputs": [],
   "source": [
    "# Prepare features and labels for machine learning\n",
    "\n",
    "df = allFeaturesFormat(data_dict)\n",
    "# Subset dataframe with only numeric columns as features\n",
    "features = df.drop(['poi', 'name', 'email_address'], axis=1)\n",
    "# Labels are the 'poi' column\n",
    "labels = df.poi"
   ]
  },
  {
   "cell_type": "markdown",
   "metadata": {},
   "source": [
    "## 5 Validation Strategy"
   ]
  },
  {
   "cell_type": "markdown",
   "metadata": {},
   "source": [
    "Q: Response addresses what validation is and why it is important.\n",
    "\n",
    "Performance of the final algorithm selected is assessed by splitting the data into training and testing sets or through the use of cross validation, noting the specific type of validation performed.\n",
    "\n",
    "A: Validation is the process of giving estimate of model performance on a dataset independent of training dataset. Validation can serve as a check on overfitting, and it also can help assess how well the trained model will generalize for unseen datasets."
   ]
  },
  {
   "cell_type": "code",
   "execution_count": 8,
   "metadata": {
    "collapsed": true
   },
   "outputs": [],
   "source": [
    "# First Attempt Split #\n",
    "\n",
    "# Split the whole dataset into stratified training/validation and test sets\n",
    "# Training/validation set is used for building the model\n",
    "# Test set is reserved for final model assessment\n",
    "\n",
    "# Step 1:\n",
    "# Split the whole dataset into training/validation set and test set\n",
    "# features_train_validation, features_test, labels_train_validation, labels_test = \\\n",
    "#    train_test_split(features, labels, test_size=0.3, random_state=42, stratify=labels)\n",
    "    \n",
    "# Step 2: \n",
    "# Split the training/validation set further into training set and validation set using StratifiedShuffleSplit\n",
    "# sss = StratifiedShuffleSplit(n_splits=1000, test_size=0.3, random_state=42)"
   ]
  },
  {
   "cell_type": "markdown",
   "metadata": {},
   "source": [
    "After buidling and tuning the model on my training/validation set, I assess my model performance on my reserved test set. Due to the limited amount of data in the dataset and the imbalance of number of POIs versus non-POIs, my test set ends up with only about 5 POIs. And depending on which few POIs are assigned to test set, the evaluation metrics scores vary a lot.\n",
    "\n",
    "For obtaining more stable evaluation metrics scores from this imbalanced small dataset, I use StratifiedShuffleSplit to random split the whole dataset, and use the whole dataset for both buidling the model and assessing the model. I understand by doing this the metrics scores I obtain will be over optimistic as the model have actually seen the test set during training."
   ]
  },
  {
   "cell_type": "code",
   "execution_count": 14,
   "metadata": {},
   "outputs": [],
   "source": [
    "# Second Attempt Split #\n",
    "# Split the whole data set into two sets\n",
    "# They will be used as training set and validation set during model selection\n",
    "# They will be used as training set and test set during model evaluation\n",
    "sss = StratifiedShuffleSplit(n_splits=1000, test_size=0.3, random_state=42)"
   ]
  },
  {
   "cell_type": "code",
   "execution_count": null,
   "metadata": {
    "collapsed": true
   },
   "outputs": [],
   "source": []
  }
 ],
 "metadata": {
  "kernelspec": {
   "display_name": "Python 3",
   "language": "python",
   "name": "python3"
  },
  "language_info": {
   "codemirror_mode": {
    "name": "ipython",
    "version": 3
   },
   "file_extension": ".py",
   "mimetype": "text/x-python",
   "name": "python",
   "nbconvert_exporter": "python",
   "pygments_lexer": "ipython3",
   "version": "3.6.2"
  }
 },
 "nbformat": 4,
 "nbformat_minor": 2
}
